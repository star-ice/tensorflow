{
  "nbformat": 4,
  "nbformat_minor": 0,
  "metadata": {
    "colab": {
      "name": "Copy of siamese_network.ipynb",
      "version": "0.3.2",
      "provenance": [],
      "collapsed_sections": [],
      "include_colab_link": true
    },
    "kernelspec": {
      "display_name": "Python 3",
      "language": "python",
      "name": "python3"
    },
    "accelerator": "GPU"
  },
  "cells": [
    {
      "cell_type": "markdown",
      "metadata": {
        "id": "view-in-github",
        "colab_type": "text"
      },
      "source": [
        "[View in Colaboratory](https://colab.research.google.com/github/star-ice/tensorflow/blob/master/Copy_of_siamese_network.ipynb)"
      ]
    },
    {
      "metadata": {
        "id": "VVCckcbrazAH",
        "colab_type": "text"
      },
      "cell_type": "markdown",
      "source": [
        "# Finding pairwise dissimilarity from Siamese Network\n",
        "In this session we shall compare the faces of 18 persons. The face of each person is represented using a few photos (*mugshots*) of the person. \n",
        "\n",
        "A neural network is used to compute a **dissimilarity score** between the faces of every two persons through their photos. \n",
        "\n",
        "Finally, the dissimilarity scores are stored in a matrix, and used to construct a graph.\n",
        "\n",
        "*(Neural network codes herein are modified from \"https://github.com/harveyslash/Facial-Similarity-with-Siamese-Networks-in-Pytorch\")*\n",
        "\n",
        "**IMPORTANT: Submit your Google account name to enable file access and backup.**\n",
        "\n",
        "\n",
        "---\n",
        "\n",
        "\n",
        "\n"
      ]
    },
    {
      "metadata": {
        "id": "BilQ2XqO-yAv",
        "colab_type": "text"
      },
      "cell_type": "markdown",
      "source": [
        "##Test case name\n",
        "Please set the variable \"name\" below to a name of your choice. <br>\n",
        "Use any name, but please choose one (e.g. your name) that does not conflict with others' choices.<br>\n",
        "You can use different names to identify different projects.<br>\n",
        "**For the initial lab session, do not change this -- just leave this as \"trial\".**"
      ]
    },
    {
      "metadata": {
        "id": "A2RrV3d64uCl",
        "colab_type": "code",
        "colab": {}
      },
      "cell_type": "code",
      "source": [
        "# project name\n",
        "\n",
        "name=\"trial\""
      ],
      "execution_count": 0,
      "outputs": []
    },
    {
      "metadata": {
        "id": "uBKU02XVazAK",
        "colab_type": "text"
      },
      "cell_type": "markdown",
      "source": [
        "## Imports"
      ]
    },
    {
      "metadata": {
        "id": "6TjgbrTta4TA",
        "colab_type": "code",
        "colab": {
          "base_uri": "https://localhost:8080/",
          "height": 2706
        },
        "outputId": "4d71fd26-0b5e-4af9-e56a-ca3ff1c8df49"
      },
      "cell_type": "code",
      "source": [
        "# Install PyTorch\n",
        "\n",
        "from os import path\n",
        "from wheel.pep425tags import get_abbr_impl, get_impl_ver, get_abi_tag\n",
        "platform = '{}{}-{}'.format(get_abbr_impl(), get_impl_ver(), get_abi_tag())\n",
        "accelerator = 'cu80' if path.exists('/opt/bin/nvidia-smi') else 'cpu'\n",
        "!pip install torch torchvision\n",
        "\n",
        "# Fix a problem with PIL which is unique only to colab\n",
        "\n",
        "!pip install Pillow==4.0.0\n",
        "!pip install image\n",
        "\n",
        "# Install GCP modules\n",
        "\n",
        "!apt-get install -y -qq software-properties-common python-software-properties module-init-tools"
      ],
      "execution_count": 2,
      "outputs": [
        {
          "output_type": "stream",
          "text": [
            "Collecting torch\n",
            "\u001b[?25l  Downloading https://files.pythonhosted.org/packages/69/43/380514bd9663f1bf708abeb359b8b48d3fabb1c8e95bb3427a980a064c57/torch-0.4.0-cp36-cp36m-manylinux1_x86_64.whl (484.0MB)\n",
            "\u001b[K    100% |████████████████████████████████| 484.0MB 29kB/s \n",
            "tcmalloc: large alloc 1073750016 bytes == 0x5c1f2000 @  0x7fd42b2b81c4 0x46d6a4 0x5fcbcc 0x4c494d 0x54f3c4 0x553aaf 0x54e4c8 0x54f4f6 0x553aaf 0x54efc1 0x54f24d 0x553aaf 0x54efc1 0x54f24d 0x553aaf 0x54efc1 0x54f24d 0x551ee0 0x54e4c8 0x54f4f6 0x553aaf 0x54efc1 0x54f24d 0x551ee0 0x54efc1 0x54f24d 0x551ee0 0x54e4c8 0x54f4f6 0x553aaf 0x54e4c8\n",
            "\u001b[?25hCollecting torchvision\n",
            "\u001b[?25l  Downloading https://files.pythonhosted.org/packages/ca/0d/f00b2885711e08bd71242ebe7b96561e6f6d01fdb4b9dcf4d37e2e13c5e1/torchvision-0.2.1-py2.py3-none-any.whl (54kB)\n",
            "\u001b[K    100% |████████████████████████████████| 61kB 4.7MB/s \n",
            "\u001b[?25hCollecting pillow>=4.1.1 (from torchvision)\n",
            "\u001b[?25l  Downloading https://files.pythonhosted.org/packages/d1/24/f53ff6b61b3d728b90934bddb4f03f8ab584a7f49299bf3bde56e2952612/Pillow-5.2.0-cp36-cp36m-manylinux1_x86_64.whl (2.0MB)\n",
            "\u001b[K    100% |████████████████████████████████| 2.0MB 2.6MB/s \n",
            "\u001b[?25hRequirement already satisfied: six in /usr/local/lib/python3.6/dist-packages (from torchvision) (1.11.0)\n",
            "Requirement already satisfied: numpy in /usr/local/lib/python3.6/dist-packages (from torchvision) (1.14.5)\n",
            "Installing collected packages: torch, pillow, torchvision\n",
            "  Found existing installation: Pillow 4.0.0\n",
            "    Uninstalling Pillow-4.0.0:\n",
            "      Successfully uninstalled Pillow-4.0.0\n",
            "Successfully installed pillow-5.2.0 torch-0.4.0 torchvision-0.2.1\n",
            "Collecting Pillow==4.0.0\n",
            "\u001b[?25l  Downloading https://files.pythonhosted.org/packages/37/e8/b3fbf87b0188d22246678f8cd61e23e31caa1769ebc06f1664e2e5fe8a17/Pillow-4.0.0-cp36-cp36m-manylinux1_x86_64.whl (5.6MB)\n",
            "\u001b[K    100% |████████████████████████████████| 5.6MB 6.8MB/s \n",
            "\u001b[?25hRequirement already satisfied: olefile in /usr/local/lib/python3.6/dist-packages (from Pillow==4.0.0) (0.45.1)\n"
          ],
          "name": "stdout"
        },
        {
          "output_type": "stream",
          "text": [
            "\u001b[31mtorchvision 0.2.1 has requirement pillow>=4.1.1, but you'll have pillow 4.0.0 which is incompatible.\u001b[0m\r\n",
            "Installing collected packages: Pillow\r\n",
            "  Found existing installation: Pillow 5.2.0\r\n",
            "    Uninstalling Pillow-5.2.0:\n",
            "      Successfully uninstalled Pillow-5.2.0\n",
            "Successfully installed Pillow-4.0.0\n",
            "Collecting image\n",
            "  Downloading https://files.pythonhosted.org/packages/a7/5b/c0358fe83daab29070e38a945809585f1fd6353e65b687f602688f32c3c2/image-1.5.24-py2.py3-none-any.whl\n",
            "Collecting django (from image)\n",
            "\u001b[?25l  Downloading https://files.pythonhosted.org/packages/ab/15/cfde97943f0db45e4f999c60b696fbb4df59e82bbccc686770f4e44c9094/Django-2.0.7-py3-none-any.whl (7.1MB)\n",
            "\u001b[K    100% |████████████████████████████████| 7.1MB 4.3MB/s \n",
            "\u001b[?25hRequirement already satisfied: pillow in /usr/local/lib/python3.6/dist-packages (from image) (4.0.0)\n",
            "Requirement already satisfied: pytz in /usr/local/lib/python3.6/dist-packages (from django->image) (2018.5)\n",
            "Requirement already satisfied: olefile in /usr/local/lib/python3.6/dist-packages (from pillow->image) (0.45.1)\n",
            "\u001b[31mtorchvision 0.2.1 has requirement pillow>=4.1.1, but you'll have pillow 4.0.0 which is incompatible.\u001b[0m\n",
            "Installing collected packages: django, image\n",
            "Successfully installed django-2.0.7 image-1.5.24\n",
            "Preconfiguring packages ...\n",
            "Selecting previously unselected package cron.\n",
            "(Reading database ... 18396 files and directories currently installed.)\n",
            "Preparing to unpack .../00-cron_3.0pl1-128ubuntu5_amd64.deb ...\n",
            "Unpacking cron (3.0pl1-128ubuntu5) ...\n",
            "Selecting previously unselected package libapparmor1:amd64.\n",
            "Preparing to unpack .../01-libapparmor1_2.11.0-2ubuntu17.1_amd64.deb ...\n",
            "Unpacking libapparmor1:amd64 (2.11.0-2ubuntu17.1) ...\n",
            "Selecting previously unselected package libdbus-1-3:amd64.\n",
            "Preparing to unpack .../02-libdbus-1-3_1.10.22-1ubuntu1_amd64.deb ...\n",
            "Unpacking libdbus-1-3:amd64 (1.10.22-1ubuntu1) ...\n",
            "Selecting previously unselected package dbus.\n",
            "Preparing to unpack .../03-dbus_1.10.22-1ubuntu1_amd64.deb ...\n",
            "Unpacking dbus (1.10.22-1ubuntu1) ...\n",
            "Preparing to unpack .../04-gnupg_2.1.15-1ubuntu8.1_amd64.deb ...\n",
            "Unpacking gnupg (2.1.15-1ubuntu8.1) over (2.1.15-1ubuntu8) ...\n",
            "Preparing to unpack .../05-gnupg-agent_2.1.15-1ubuntu8.1_amd64.deb ...\n",
            "Unpacking gnupg-agent (2.1.15-1ubuntu8.1) over (2.1.15-1ubuntu8) ...\n",
            "Selecting previously unselected package dirmngr.\n",
            "Preparing to unpack .../06-dirmngr_2.1.15-1ubuntu8.1_amd64.deb ...\n",
            "Unpacking dirmngr (2.1.15-1ubuntu8.1) ...\n",
            "Selecting previously unselected package distro-info-data.\n",
            "Preparing to unpack .../07-distro-info-data_0.36ubuntu0.2_all.deb ...\n",
            "Unpacking distro-info-data (0.36ubuntu0.2) ...\n",
            "Selecting previously unselected package libkmod2:amd64.\n",
            "Preparing to unpack .../08-libkmod2_24-1ubuntu2_amd64.deb ...\n",
            "Unpacking libkmod2:amd64 (24-1ubuntu2) ...\n",
            "Selecting previously unselected package kmod.\n",
            "Preparing to unpack .../09-kmod_24-1ubuntu2_amd64.deb ...\n",
            "Unpacking kmod (24-1ubuntu2) ...\n",
            "Selecting previously unselected package lsb-release.\n",
            "Preparing to unpack .../10-lsb-release_9.20160110ubuntu5_all.deb ...\n",
            "Unpacking lsb-release (9.20160110ubuntu5) ...\n",
            "Selecting previously unselected package libgirepository-1.0-1:amd64.\n",
            "Preparing to unpack .../11-libgirepository-1.0-1_1.54.1-1_amd64.deb ...\n",
            "Unpacking libgirepository-1.0-1:amd64 (1.54.1-1) ...\n",
            "Selecting previously unselected package gir1.2-glib-2.0:amd64.\n",
            "Preparing to unpack .../12-gir1.2-glib-2.0_1.54.1-1_amd64.deb ...\n",
            "Unpacking gir1.2-glib-2.0:amd64 (1.54.1-1) ...\n",
            "Selecting previously unselected package iso-codes.\n",
            "Preparing to unpack .../13-iso-codes_3.75-1_all.deb ...\n",
            "Unpacking iso-codes (3.75-1) ...\n",
            "Selecting previously unselected package libdbus-glib-1-2:amd64.\n",
            "Preparing to unpack .../14-libdbus-glib-1-2_0.108-2_amd64.deb ...\n",
            "Unpacking libdbus-glib-1-2:amd64 (0.108-2) ...\n",
            "Selecting previously unselected package python-apt-common.\n",
            "Preparing to unpack .../15-python-apt-common_1.4.0~beta3build2_all.deb ...\n",
            "Unpacking python-apt-common (1.4.0~beta3build2) ...\n",
            "Selecting previously unselected package python3-apt.\n",
            "Preparing to unpack .../16-python3-apt_1.4.0~beta3build2_amd64.deb ...\n",
            "Unpacking python3-apt (1.4.0~beta3build2) ...\n",
            "Selecting previously unselected package python3-dbus.\n",
            "Preparing to unpack .../17-python3-dbus_1.2.4-1build3_amd64.deb ...\n",
            "Unpacking python3-dbus (1.2.4-1build3) ...\n",
            "Selecting previously unselected package python3-gi.\n",
            "Preparing to unpack .../18-python3-gi_3.24.1-2build1_amd64.deb ...\n",
            "Unpacking python3-gi (3.24.1-2build1) ...\n",
            "Selecting previously unselected package module-init-tools.\n",
            "Preparing to unpack .../19-module-init-tools_24-1ubuntu2_all.deb ...\n",
            "Unpacking module-init-tools (24-1ubuntu2) ...\n",
            "Selecting previously unselected package python-apt.\n",
            "Preparing to unpack .../20-python-apt_1.4.0~beta3build2_amd64.deb ...\n",
            "Unpacking python-apt (1.4.0~beta3build2) ...\n"
          ],
          "name": "stdout"
        },
        {
          "output_type": "stream",
          "text": [
            "Selecting previously unselected package python-pycurl.\r\n",
            "Preparing to unpack .../21-python-pycurl_7.43.0-2build2_amd64.deb ...\r\n",
            "Unpacking python-pycurl (7.43.0-2build2) ...\n",
            "Selecting previously unselected package python-software-properties.\n",
            "Preparing to unpack .../22-python-software-properties_0.96.24.17_all.deb ...\n",
            "Unpacking python-software-properties (0.96.24.17) ...\n",
            "Selecting previously unselected package python3-software-properties.\n",
            "Preparing to unpack .../23-python3-software-properties_0.96.24.17_all.deb ...\n",
            "Unpacking python3-software-properties (0.96.24.17) ...\n",
            "Selecting previously unselected package software-properties-common.\n",
            "Preparing to unpack .../24-software-properties-common_0.96.24.17_all.deb ...\n",
            "Unpacking software-properties-common (0.96.24.17) ...\n",
            "Selecting previously unselected package unattended-upgrades.\n",
            "Preparing to unpack .../25-unattended-upgrades_0.98ubuntu1.1_all.deb ...\n",
            "Unpacking unattended-upgrades (0.98ubuntu1.1) ...\n",
            "Setting up python-apt-common (1.4.0~beta3build2) ...\n",
            "Setting up python3-apt (1.4.0~beta3build2) ...\n",
            "Setting up iso-codes (3.75-1) ...\n",
            "Setting up distro-info-data (0.36ubuntu0.2) ...\n",
            "Setting up python-pycurl (7.43.0-2build2) ...\n",
            "Setting up lsb-release (9.20160110ubuntu5) ...\n",
            "Setting up libgirepository-1.0-1:amd64 (1.54.1-1) ...\n",
            "Setting up libkmod2:amd64 (24-1ubuntu2) ...\n",
            "Setting up gir1.2-glib-2.0:amd64 (1.54.1-1) ...\n",
            "Processing triggers for libc-bin (2.26-0ubuntu2.1) ...\n",
            "Setting up libapparmor1:amd64 (2.11.0-2ubuntu17.1) ...\n",
            "Setting up unattended-upgrades (0.98ubuntu1.1) ...\n",
            "\n",
            "Creating config file /etc/apt/apt.conf.d/20auto-upgrades with new version\n",
            "\n",
            "Creating config file /etc/apt/apt.conf.d/50unattended-upgrades with new version\n",
            "invoke-rc.d: could not determine current runlevel\n",
            "invoke-rc.d: policy-rc.d denied execution of start.\n",
            "Setting up gnupg-agent (2.1.15-1ubuntu8.1) ...\n",
            "Setting up dirmngr (2.1.15-1ubuntu8.1) ...\n",
            "Setting up cron (3.0pl1-128ubuntu5) ...\n",
            "Adding group `crontab' (GID 102) ...\n",
            "Done.\n",
            "update-rc.d: warning: start and stop actions are no longer supported; falling back to defaults\n",
            "update-rc.d: warning: stop runlevel arguments (1) do not match cron Default-Stop values (none)\n",
            "invoke-rc.d: could not determine current runlevel\n",
            "invoke-rc.d: policy-rc.d denied execution of start.\n",
            "Setting up libdbus-1-3:amd64 (1.10.22-1ubuntu1) ...\n",
            "Setting up kmod (24-1ubuntu2) ...\n",
            "Setting up libdbus-glib-1-2:amd64 (0.108-2) ...\n",
            "Setting up gnupg (2.1.15-1ubuntu8.1) ...\n",
            "Setting up python3-gi (3.24.1-2build1) ...\n",
            "Setting up module-init-tools (24-1ubuntu2) ...\n",
            "Setting up python3-software-properties (0.96.24.17) ...\n",
            "Setting up dbus (1.10.22-1ubuntu1) ...\n",
            "Setting up python-apt (1.4.0~beta3build2) ...\n",
            "Setting up python3-dbus (1.2.4-1build3) ...\n",
            "Setting up python-software-properties (0.96.24.17) ...\n",
            "Setting up software-properties-common (0.96.24.17) ...\n",
            "Processing triggers for libc-bin (2.26-0ubuntu2.1) ...\n",
            "Processing triggers for dbus (1.10.22-1ubuntu1) ...\n"
          ],
          "name": "stdout"
        }
      ]
    },
    {
      "metadata": {
        "id": "w7uAFbUuazAM",
        "colab_type": "code",
        "colab": {}
      },
      "cell_type": "code",
      "source": [
        "%matplotlib inline\n",
        "import torch\n",
        "from torch.autograd import Variable\n",
        "import torch.nn as nn\n",
        "from torch import optim\n",
        "import torch.nn.functional as F\n",
        "import torchvision\n",
        "import torchvision.datasets as dset\n",
        "import torchvision.transforms as transforms\n",
        "import torchvision.utils\n",
        "from torch.utils.data import DataLoader, Dataset\n",
        "import matplotlib.pyplot as plt\n",
        "from PIL import Image\n",
        "import numpy as np\n",
        "import zipfile\n",
        "import random\n",
        "import math\n",
        "import copy\n",
        "import os\n",
        "import shutil\n",
        "from google.colab import files, auth"
      ],
      "execution_count": 0,
      "outputs": []
    },
    {
      "metadata": {
        "id": "AmwDcWIdazAX",
        "colab_type": "text"
      },
      "cell_type": "markdown",
      "source": [
        "## Helper functions"
      ]
    },
    {
      "metadata": {
        "id": "RhbHXxXrazAY",
        "colab_type": "code",
        "colab": {}
      },
      "cell_type": "code",
      "source": [
        "def imshow(img):\n",
        "    npimg = img.numpy()\n",
        "    plt.axis(\"off\")\n",
        "    plt.imshow(np.transpose(npimg, (1, 2, 0)))\n",
        "    plt.show()    \n",
        "\n",
        "def show_plot(iteration, loss):\n",
        "    plt.plot(iteration, loss)\n",
        "    plt.show()\n",
        "    \n",
        "# Set use_gcp to False to download a file to your local harddisk\n",
        "def backup(filename, use_gcp=True):\n",
        "    if name == \"trial\" and use_gcp: # No backup for the trial\n",
        "        print(\"File \\\"\" + filename + \"\\\" not backed up since this is trial run.\")\n",
        "        return\n",
        "    if use_gcp:\n",
        "        project_id = 'twitter-for-bigquery'\n",
        "        auth.authenticate_user()\n",
        "        os.system(\"gcloud config set project twitter-for-bigquery\")\n",
        "        os.system(\"gsutil copy \" + filename + \" gs://harddisk-1/\" + name + \"/\")\n",
        "    else:\n",
        "        files.download(filename)\n",
        "\n",
        "# Set use_gcp to False to upload a file from your local harddisk\n",
        "def restore(filename, use_gcp=True):\n",
        "    if use_gcp:\n",
        "        project_id = 'twitter-for-bigquery'\n",
        "        auth.authenticate_user()\n",
        "        os.system(\"gcloud config set project twitter-for-bigquery\")\n",
        "        os.system(\"gsutil copy gs://harddisk-1/\" + name + \"/\" + filename + \" .\")\n",
        "    else:\n",
        "        if os.path.exists(filename):\n",
        "            os.remove(filename)\n",
        "        uploaded = files.upload()\n",
        "    !ls -l {filename}\n",
        "\n",
        "# Save graph for use in Gephi or pals\n",
        "def export_edge_list(sim, labels=None, filename=\"edges.csv\", delim=\",\", header=True):\n",
        "    f = open(filename, 'w')\n",
        "    if header:\n",
        "        f.write(\"Source,Target\\n\")\n",
        "    for i in range(sim.shape[0]):\n",
        "        for j in range(i+1, sim.shape[1]):\n",
        "            if sim[i,j] != 0:\n",
        "                if labels == None:\n",
        "                    f.write(str(i) + delim + str(j) + \"\\n\")\n",
        "                else:\n",
        "                    f.write(\"\\\"\" + labels[i] + \"\\\"\" + delim + \"\\\"\" + labels[j] + \"\\\"\\n\")                          \n",
        "    f.close()\n",
        "\n",
        "# For preserving labels across sessions\n",
        "def _save_labels(labels):\n",
        "    f = open(\"_labels.csv\", 'w')\n",
        "    for i in range(len(labels)):\n",
        "        f.write(str(i) + \",\" + labels[i] + \"\\n\")\n",
        "    f.close()\n",
        "    backup(\"_labels.csv\")"
      ],
      "execution_count": 0,
      "outputs": []
    },
    {
      "metadata": {
        "id": "NqeL_7coAc92",
        "colab_type": "text"
      },
      "cell_type": "markdown",
      "source": [
        "## Data preparation\n",
        "You are to upload a file called \"data.zip\" to colab. Here's how you should prepare the file.<br>\n",
        "**For the initial lab session, a [\"data.zip\" file](https://github.com/kalngyk/repoman/raw/master/data.zip) has been prepared. Simply run this section and it will be automatically used. (Just make sure that you have already submitted your Google account name.)**<br>\n",
        "To prepare the file, obtain images (in jpg or png format) of several different classes. Each class of images should be of the same subject (e.g. a person's face, a car model). Images in the same class should be visually similar.<br>\n",
        "About 5~10 images should be sufficient for each class, but each class must have the same number of images. You should have around 10~100 classes to generate a reasonably nice graph/network. <br>\n",
        "Put your images for each class in a folder, and put all the folders in a folder called \"data\". Finally, compress the \"data\" folder into a zip archive called \"data.zip\".\n",
        "See the provided [\"data.zip\" file](https://github.com/kalngyk/repoman/raw/master/data.zip) for reference.\n",
        "\n",
        "*If you have fewer images for a certain class, you can duplicate the existing images of that class to make up the number.*\n",
        "\n",
        "*If you see the error \"<U>Upload widget is only available when the cell has been executed in the current browser session</U>\", access the URL `chrome://settings/content/cookies` and disable \"Block third-party cookies\".*\n",
        "\n"
      ]
    },
    {
      "metadata": {
        "id": "733rn3hiC-_J",
        "colab_type": "code",
        "colab": {
          "base_uri": "https://localhost:8080/",
          "height": 34
        },
        "outputId": "2390b4e0-6ef3-48d6-ddc3-d262f0128beb"
      },
      "cell_type": "code",
      "source": [
        "# Retrieve data archive\n",
        "\n",
        "use_backup = False # Set to True to use the backup copy of data.zip. This is useful when you redo the project.\n",
        "\n",
        "if name == \"trial\" or use_backup:\n",
        "    restore(\"data.zip\")\n",
        "else:\n",
        "    restore(\"data.zip\", False)\n",
        "\n",
        "# Uncomment the following line to backup your data.zip. This is useful when you want to redo the project.\n",
        "\n",
        "# backup(\"data.zip\")"
      ],
      "execution_count": 5,
      "outputs": [
        {
          "output_type": "stream",
          "text": [
            "-rw-r--r-- 1 root root 1739672 Jul 14 06:30 data.zip\r\n"
          ],
          "name": "stdout"
        }
      ]
    },
    {
      "metadata": {
        "id": "s3xenJ5jZKKu",
        "colab_type": "code",
        "colab": {
          "base_uri": "https://localhost:8080/",
          "height": 34
        },
        "outputId": "ee349c9f-0cde-4fd0-8839-f15b55890a25"
      },
      "cell_type": "code",
      "source": [
        "# Unzip data archive\n",
        "\n",
        "if os.path.exists(\"data\"):\n",
        "    shutil.rmtree(\"data\")\n",
        "zip_ref = zipfile.ZipFile(\"data.zip\", 'r')\n",
        "zip_ref.extractall()\n",
        "zip_ref.close()\n",
        "classes = os.listdir(\"data\")\n",
        "print(len(classes), \"classes found: \", end='')\n",
        "for c in sorted(classes):\n",
        "    print(c, end=' ')"
      ],
      "execution_count": 6,
      "outputs": [
        {
          "output_type": "stream",
          "text": [
            "18 classes found: s1 s10 s11 s14 s18 s21 s25 s26 s27 s28 s29 s30 s31 s34 s37 s40 s41 s8 "
          ],
          "name": "stdout"
        }
      ]
    },
    {
      "metadata": {
        "id": "8OK65GNgazAg",
        "colab_type": "text"
      },
      "cell_type": "markdown",
      "source": [
        "## Configuration"
      ]
    },
    {
      "metadata": {
        "id": "upBn8YnqazAi",
        "colab_type": "code",
        "colab": {}
      },
      "cell_type": "code",
      "source": [
        "class Config():\n",
        "    training_dir = \"./data/\"\n",
        "    train_batch_size = 64\n",
        "    train_number_epochs = 15\n",
        "    labels = None"
      ],
      "execution_count": 0,
      "outputs": []
    },
    {
      "metadata": {
        "id": "y3wQey_5azAn",
        "colab_type": "text"
      },
      "cell_type": "markdown",
      "source": [
        "## Custom Dataset Class\n",
        "A Dataset class supplies data into the SiameseNetwork. This dataset exhaustively enumerates all possible image pairs."
      ]
    },
    {
      "metadata": {
        "id": "-GZ8nWEwazAo",
        "colab_type": "code",
        "colab": {}
      },
      "cell_type": "code",
      "source": [
        "class PairwiseDataset(Dataset):\n",
        "\n",
        "    def __init__(self, imageFolderDataset):\n",
        "        self.imageFolderDataset = imageFolderDataset    \n",
        "        self.transform=transforms.Compose([transforms.Resize((100,100)),transforms.ToTensor()])\n",
        "        \n",
        "    # If there are n classes in list, each of m images, then\n",
        "    # Total number of images = n*m\n",
        "    # Total number of pairs = (n*m)^2\n",
        "    # Then i-th element should return element (i/nm, i%nm)\n",
        "    # Note that both (i, j) and (j, i) will be included, although they are actually the same pair.\n",
        "    def __getitem__(self, index):\n",
        "        imgs = self.imageFolderDataset.imgs\n",
        "        m = len([x for x in imgs if x[1] == 0])\n",
        "        nm = len(imgs)\n",
        "        n = int(nm/m)\n",
        "        img0index = math.floor(index / nm)\n",
        "        img1index = index % nm\n",
        "        img0 = Image.open(imgs[img0index][0])\n",
        "        img1 = Image.open(imgs[img1index][0])\n",
        "        img0 = img0.convert(\"L\")\n",
        "        img1 = img1.convert(\"L\")\n",
        "        same = np.array([int(imgs[img0index][1]!=imgs[img1index][1])], dtype=np.float32)\n",
        "        \n",
        "        if self.transform is not None:\n",
        "            img0 = self.transform(img0)\n",
        "            img1 = self.transform(img1)\n",
        "        \n",
        "        return img0, img1, torch.from_numpy(same)\n",
        "    \n",
        "    def __len__(self):\n",
        "        return len(self.imageFolderDataset.imgs)*len(self.imageFolderDataset.imgs)\n",
        "\n",
        "\n",
        "class RandomSampleDataset(Dataset):\n",
        "    \n",
        "    def __init__(self,imageFolderDataset):\n",
        "        self.imageFolderDataset = imageFolderDataset    \n",
        "        self.transform=transforms.Compose([transforms.Resize((100,100)),transforms.ToTensor()])\n",
        "        \n",
        "    def __getitem__(self,index):\n",
        "        img0_tuple = random.choice(self.imageFolderDataset.imgs)\n",
        "        #we need to make sure approx 50% of images are in the same class\n",
        "        should_get_same_class = random.randint(0,1) \n",
        "        if should_get_same_class:\n",
        "            while True:\n",
        "                #keep looping till the same class image is found\n",
        "                img1_tuple = random.choice(self.imageFolderDataset.imgs) \n",
        "                if img0_tuple[1]==img1_tuple[1]:\n",
        "                    break\n",
        "        else:\n",
        "            while True:\n",
        "                #keep looping till a different class image is found\n",
        "                img1_tuple = random.choice(self.imageFolderDataset.imgs) \n",
        "                if img0_tuple[1] !=img1_tuple[1]:\n",
        "                    break\n",
        "            img1_tuple = random.choice(self.imageFolderDataset.imgs)\n",
        "\n",
        "        img0 = Image.open(img0_tuple[0])\n",
        "        img1 = Image.open(img1_tuple[0])\n",
        "        img0 = img0.convert(\"L\")\n",
        "        img1 = img1.convert(\"L\")\n",
        "        \n",
        "        if self.transform is not None:\n",
        "            img0 = self.transform(img0)\n",
        "            img1 = self.transform(img1)\n",
        "        \n",
        "        return img0, img1, torch.from_numpy(np.array([int(img1_tuple[1]!=img0_tuple[1])],dtype=np.float32))\n",
        "    \n",
        "    def __len__(self):\n",
        "        return len(self.imageFolderDataset.imgs)"
      ],
      "execution_count": 0,
      "outputs": []
    },
    {
      "metadata": {
        "id": "HbAW2cWmazAu",
        "colab_type": "text"
      },
      "cell_type": "markdown",
      "source": [
        "## Load input images into Dataset\n",
        "At each stage each class is assigned a number, which will be used as the class' index in the dissimilarity matrix. <br>\n",
        "To get the class name back from the index, we store the class names in *Config.labels*. <br>\n",
        "*Config.labels[i]* will give us the class name for the index *i*."
      ]
    },
    {
      "metadata": {
        "id": "8TUgHbTEazAw",
        "colab_type": "code",
        "colab": {
          "base_uri": "https://localhost:8080/",
          "height": 51
        },
        "outputId": "1e2f091e-cf02-446a-cb45-40cd06c258e3"
      },
      "cell_type": "code",
      "source": [
        "folder_dataset = dset.ImageFolder(root=Config.training_dir)\n",
        "siamese_dataset = PairwiseDataset(imageFolderDataset=folder_dataset)\n",
        "idx2label = {y: os.path.basename(os.path.dirname(x)) for (x, y) in folder_dataset.imgs}\n",
        "Config.labels = [idx2label[key] for key in sorted(idx2label.keys())]\n",
        "print(Config.labels)\n",
        "print(\"Loaded images of\", len(Config.labels), \"classes into Dataset. Class names are now stored in Config.labels\")"
      ],
      "execution_count": 9,
      "outputs": [
        {
          "output_type": "stream",
          "text": [
            "['s1', 's10', 's11', 's14', 's18', 's21', 's25', 's26', 's27', 's28', 's29', 's30', 's31', 's34', 's37', 's40', 's41', 's8']\n",
            "Loaded images of 18 classes into Dataset. Class names are now stored in Config.labels\n"
          ],
          "name": "stdout"
        }
      ]
    },
    {
      "metadata": {
        "id": "qKeZZrR_3h5t",
        "colab_type": "code",
        "colab": {
          "base_uri": "https://localhost:8080/",
          "height": 34
        },
        "outputId": "446fba17-d5b5-4077-b458-171694ead643"
      },
      "cell_type": "code",
      "source": [
        "# Save labels for later use (e.g. community detection)\n",
        "\n",
        "_save_labels(Config.labels)"
      ],
      "execution_count": 10,
      "outputs": [
        {
          "output_type": "stream",
          "text": [
            "File \"_labels.csv\" not backed up since this is trial run.\n"
          ],
          "name": "stdout"
        }
      ]
    },
    {
      "metadata": {
        "id": "kwc3zSQMazA-",
        "colab_type": "text"
      },
      "cell_type": "markdown",
      "source": [
        "## Examine data\n",
        "Randomly get a few pairs of images from the Dataset to see if they are what you uploaded.<br>\n",
        "The top row and the bottom row of any column is one pair. <br>\n",
        "For each pair,\n",
        "1 = different class, 0 = same class. (The majority of the pairs will be of type 1.)"
      ]
    },
    {
      "metadata": {
        "id": "uVcn8dOiazBA",
        "colab_type": "code",
        "colab": {
          "base_uri": "https://localhost:8080/",
          "height": 153
        },
        "outputId": "416e85a0-a10d-412a-8c8a-53d581d51eb5"
      },
      "cell_type": "code",
      "source": [
        "vis_dataloader = DataLoader(siamese_dataset,shuffle=True,batch_size=8)\n",
        "\n",
        "dataiter = iter(vis_dataloader)\n",
        "example_batch = next(dataiter)\n",
        "concatenated = torch.cat((example_batch[0],example_batch[1]),0)\n",
        "imshow(torchvision.utils.make_grid(concatenated))\n",
        "print(example_batch[2].numpy().reshape((-1,)))"
      ],
      "execution_count": 29,
      "outputs": [
        {
          "output_type": "display_data",
          "data": {
            "image/png": "[encoded data removed]",
            "text/plain": [
              "<matplotlib.figure.Figure at 0x7f5c5eb067b8>"
            ]
          },
          "metadata": {
            "tags": []
          }
        },
        {
          "output_type": "stream",
          "text": [
            "[1. 1. 1. 1. 1. 1. 1. 1.]\n"
          ],
          "name": "stdout"
        }
      ]
    },
    {
      "metadata": {
        "id": "AJbxoEiwazBJ",
        "colab_type": "text"
      },
      "cell_type": "markdown",
      "source": [
        "## Define the SiameseNetwork"
      ]
    },
    {
      "metadata": {
        "id": "B5WfMCjYazBN",
        "colab_type": "code",
        "colab": {}
      },
      "cell_type": "code",
      "source": [
        "class SiameseNetwork(nn.Module):\n",
        "    def __init__(self):\n",
        "        super(SiameseNetwork, self).__init__()\n",
        "        self.cnn1 = nn.Sequential(\n",
        "            nn.ReflectionPad2d(1),\n",
        "            nn.Conv2d(1, 4, kernel_size=3),\n",
        "            nn.ReLU(inplace=True),\n",
        "            nn.BatchNorm2d(4),\n",
        "            nn.ReflectionPad2d(1),\n",
        "            nn.Conv2d(4, 8, kernel_size=3),\n",
        "            nn.ReLU(inplace=True),\n",
        "            nn.BatchNorm2d(8),\n",
        "            nn.ReflectionPad2d(1),\n",
        "            nn.Conv2d(8, 8, kernel_size=3),\n",
        "            nn.ReLU(inplace=True),\n",
        "            nn.BatchNorm2d(8),\n",
        "        )\n",
        "        self.fc1 = nn.Sequential(\n",
        "            nn.Linear(8*100*100, 500),\n",
        "            nn.ReLU(inplace=True),\n",
        "            nn.Linear(500, 500),\n",
        "            nn.ReLU(inplace=True),\n",
        "            nn.Linear(500, 5))\n",
        "\n",
        "    def forward_once(self, x):\n",
        "        output = self.cnn1(x)\n",
        "        output = output.view(output.size()[0], -1)\n",
        "        output = self.fc1(output)\n",
        "        return output\n",
        "\n",
        "    def forward(self, input1, input2):\n",
        "        output1 = self.forward_once(input1)\n",
        "        output2 = self.forward_once(input2)\n",
        "        return output1, output2\n",
        "\n",
        "class ContrastiveLoss(torch.nn.Module):\n",
        "    def __init__(self, margin=2.0):\n",
        "        super(ContrastiveLoss, self).__init__()\n",
        "        self.margin = margin\n",
        "\n",
        "    def forward(self, output1, output2, label):\n",
        "        euclidean_distance = F.pairwise_distance(output1, output2)\n",
        "        loss_contrastive = torch.mean((1-label) * torch.pow(euclidean_distance, 2) +\n",
        "                                      (label) * torch.pow(torch.clamp(self.margin - euclidean_distance, min=0.0), 2))\n",
        "        return loss_contrastive"
      ],
      "execution_count": 0,
      "outputs": []
    },
    {
      "metadata": {
        "id": "D1o3v4QVazBj",
        "colab_type": "text"
      },
      "cell_type": "markdown",
      "source": [
        "## Train the neural network"
      ]
    },
    {
      "metadata": {
        "id": "LljMN82LazB1",
        "colab_type": "code",
        "colab": {
          "base_uri": "https://localhost:8080/",
          "height": 1302
        },
        "outputId": "ac2a9a2e-f4a7-4b69-f338-212a37b164ee"
      },
      "cell_type": "code",
      "source": [
        "train_dataloader = DataLoader(siamese_dataset, shuffle=True, batch_size=Config.train_batch_size)\n",
        "net = SiameseNetwork().cuda()\n",
        "criterion = ContrastiveLoss()\n",
        "optimizer = optim.Adam(net.parameters(), lr = 0.0005)\n",
        "counter = []\n",
        "loss_history = [] \n",
        "interval_num = 0\n",
        "batches_per_epoch = int(len(siamese_dataset) / Config.train_batch_size)\n",
        "total_batches = batches_per_epoch * Config.train_number_epochs\n",
        "num_intervals = 50\n",
        "num_batches_per_interval = int(total_batches / num_intervals)\n",
        "for epoch in range(0, Config.train_number_epochs):\n",
        "    for batch, data in enumerate(train_dataloader, 0):\n",
        "        img0, img1, label = data\n",
        "        img0, img1, label = img0.cuda(), img1.cuda(), label.cuda()\n",
        "        optimizer.zero_grad()\n",
        "        output1, output2 = net(img0, img1)\n",
        "        loss_contrastive = criterion(output1, output2, label)\n",
        "        loss_contrastive.backward()\n",
        "        optimizer.step()\n",
        "        if batch % num_batches_per_interval == 0:\n",
        "            print(\" Epoch {} Batch {}/{}: loss = {}\".format(epoch, batch, batches_per_epoch, loss_contrastive.item()))\n",
        "            interval_num += num_batches_per_interval\n",
        "            counter.append(interval_num)\n",
        "            loss_history.append(loss_contrastive.item())\n",
        "show_plot(counter, loss_history)\n",
        "\n",
        "# Saves the trained SiameseNetwork\n",
        "\n",
        "trained_model = copy.deepcopy(net.state_dict())\n",
        "torch.save(trained_model, \"siamese.pth\")\n",
        "\n",
        "# Comment out the following line to stop automatic backup of the trained model file\n",
        "\n",
        "backup(\"siamese.pth\")"
      ],
      "execution_count": 20,
      "outputs": [
        {
          "output_type": "stream",
          "text": [
            " Epoch 0 Batch 0/506: loss = 3.147144317626953\n",
            " Epoch 0 Batch 151/506: loss = 0.39132237434387207\n",
            " Epoch 0 Batch 302/506: loss = 0.4094393253326416\n",
            " Epoch 0 Batch 453/506: loss = 0.38434821367263794\n",
            " Epoch 1 Batch 0/506: loss = 0.33512717485427856\n",
            " Epoch 1 Batch 151/506: loss = 0.2907629609107971\n",
            " Epoch 1 Batch 302/506: loss = 0.6307457685470581\n",
            " Epoch 1 Batch 453/506: loss = 0.2503829002380371\n",
            " Epoch 2 Batch 0/506: loss = 0.24994255602359772\n",
            " Epoch 2 Batch 151/506: loss = 0.4523308277130127\n",
            " Epoch 2 Batch 302/506: loss = 0.6028159260749817\n",
            " Epoch 2 Batch 453/506: loss = 0.6615163683891296\n",
            " Epoch 3 Batch 0/506: loss = 0.7142312526702881\n",
            " Epoch 3 Batch 151/506: loss = 0.5323567390441895\n",
            " Epoch 3 Batch 302/506: loss = 0.25774550437927246\n",
            " Epoch 3 Batch 453/506: loss = 0.45946547389030457\n",
            " Epoch 4 Batch 0/506: loss = 0.18889418244361877\n",
            " Epoch 4 Batch 151/506: loss = 0.11431048810482025\n",
            " Epoch 4 Batch 302/506: loss = 0.5986791849136353\n",
            " Epoch 4 Batch 453/506: loss = 0.566428542137146\n",
            " Epoch 5 Batch 0/506: loss = 0.38723570108413696\n",
            " Epoch 5 Batch 151/506: loss = 0.32430726289749146\n",
            " Epoch 5 Batch 302/506: loss = 0.2603795528411865\n",
            " Epoch 5 Batch 453/506: loss = 0.4340760111808777\n",
            " Epoch 6 Batch 0/506: loss = 0.2785683870315552\n",
            " Epoch 6 Batch 151/506: loss = 0.4151281416416168\n",
            " Epoch 6 Batch 302/506: loss = 0.2971373200416565\n",
            " Epoch 6 Batch 453/506: loss = 0.32611727714538574\n",
            " Epoch 7 Batch 0/506: loss = 0.6330533623695374\n",
            " Epoch 7 Batch 151/506: loss = 0.4387815296649933\n",
            " Epoch 7 Batch 302/506: loss = 0.6080559492111206\n",
            " Epoch 7 Batch 453/506: loss = 0.34597861766815186\n",
            " Epoch 8 Batch 0/506: loss = 0.4045242369174957\n",
            " Epoch 8 Batch 151/506: loss = 0.2525463104248047\n",
            " Epoch 8 Batch 302/506: loss = 0.6943512558937073\n",
            " Epoch 8 Batch 453/506: loss = 0.42040228843688965\n",
            " Epoch 9 Batch 0/506: loss = 0.20997945964336395\n",
            " Epoch 9 Batch 151/506: loss = 0.18094763159751892\n",
            " Epoch 9 Batch 302/506: loss = 0.5117121934890747\n",
            " Epoch 9 Batch 453/506: loss = 0.32747992873191833\n",
            " Epoch 10 Batch 0/506: loss = 0.5115354657173157\n",
            " Epoch 10 Batch 151/506: loss = 0.3148626685142517\n",
            " Epoch 10 Batch 302/506: loss = 0.35298553109169006\n",
            " Epoch 10 Batch 453/506: loss = 0.28353679180145264\n",
            " Epoch 11 Batch 0/506: loss = 0.516727864742279\n",
            " Epoch 11 Batch 151/506: loss = 0.30140936374664307\n",
            " Epoch 11 Batch 302/506: loss = 0.5248383283615112\n",
            " Epoch 11 Batch 453/506: loss = 0.3345705270767212\n",
            " Epoch 12 Batch 0/506: loss = 0.13871292769908905\n",
            " Epoch 12 Batch 151/506: loss = 0.31855496764183044\n",
            " Epoch 12 Batch 302/506: loss = 0.2696799635887146\n",
            " Epoch 12 Batch 453/506: loss = 0.8526290059089661\n",
            " Epoch 13 Batch 0/506: loss = 0.20963163673877716\n",
            " Epoch 13 Batch 151/506: loss = 0.8528074026107788\n",
            " Epoch 13 Batch 302/506: loss = 0.16544921696186066\n",
            " Epoch 13 Batch 453/506: loss = 0.32244789600372314\n",
            " Epoch 14 Batch 0/506: loss = 0.36322730779647827\n",
            " Epoch 14 Batch 151/506: loss = 0.4895092248916626\n",
            " Epoch 14 Batch 302/506: loss = 0.4992760717868805\n",
            " Epoch 14 Batch 453/506: loss = 0.24084967374801636\n"
          ],
          "name": "stdout"
        },
        {
          "output_type": "display_data",
          "data": {
            "image/png": "[encoded data removed]",
            "text/plain": [
              "<matplotlib.figure.Figure at 0x7f5cafbecba8>"
            ]
          },
          "metadata": {
            "tags": []
          }
        },
        {
          "output_type": "stream",
          "text": [
            "File \"siamese.pth\" not backed up since this is trial run.\n"
          ],
          "name": "stdout"
        }
      ]
    },
    {
      "metadata": {
        "id": "hx425g5sh-kd",
        "colab_type": "code",
        "colab": {}
      },
      "cell_type": "code",
      "source": [
        "# Manually backup the trained model file to GCP\n",
        "\n",
        "backup(\"siamese.pth\")"
      ],
      "execution_count": 0,
      "outputs": []
    },
    {
      "metadata": {
        "id": "GeYFJQy12LGP",
        "colab_type": "text"
      },
      "cell_type": "markdown",
      "source": [
        "#####Non-GPU version of the training:"
      ]
    },
    {
      "metadata": {
        "id": "nZKftI4_11in",
        "colab_type": "code",
        "colab": {
          "base_uri": "https://localhost:8080/",
          "height": 494
        },
        "outputId": "256651c8-4652-4ac6-b545-cc3daf8a07f7"
      },
      "cell_type": "code",
      "source": [
        "train_dataloader = DataLoader(siamese_dataset, shuffle=True, batch_size=Config.train_batch_size)\n",
        "net = SiameseNetwork()\n",
        "criterion = ContrastiveLoss()\n",
        "optimizer = optim.Adam(net.parameters(), lr = 0.0005)\n",
        "counter = []\n",
        "loss_history = [] \n",
        "interval_num = 0\n",
        "batches_per_epoch = int(len(siamese_dataset) / Config.train_batch_size)\n",
        "total_batches = batches_per_epoch * Config.train_number_epochs\n",
        "num_intervals = 50\n",
        "num_batches_per_interval = int(total_batches / num_intervals)\n",
        "for epoch in range(0, Config.train_number_epochs):\n",
        "    for batch, data in enumerate(train_dataloader, 0):\n",
        "        img0, img1, label = data\n",
        "        img0, img1, label = img0, img1, Variable(label)\n",
        "        optimizer.zero_grad()\n",
        "        output1, output2 = net(img0, img1)\n",
        "        loss_contrastive = criterion(output1, output2, label)\n",
        "        loss_contrastive.backward()\n",
        "        optimizer.step()\n",
        "        if batch % num_batches_per_interval == 0:\n",
        "            print(\" Epoch {} Batch {}/{}: loss = {}\".format(epoch, batch, batches_per_epoch, loss_contrastive.item()))\n",
        "            interval_num += num_batches_per_interval\n",
        "            counter.append(interval_num)\n",
        "            loss_history.append(loss_contrastive.item())\n",
        "show_plot(counter, loss_history)\n",
        "\n",
        "# Saves the trained SiameseNetwork\n",
        "\n",
        "trained_model = copy.deepcopy(net.state_dict())\n",
        "torch.save(trained_model, \"siamese.pth\")\n",
        "\n",
        "# Comment out the following line to stop automatic backup of the trained model file\n",
        "\n",
        "backup(\"siamese.pth\")"
      ],
      "execution_count": 31,
      "outputs": [
        {
          "output_type": "error",
          "ename": "KeyboardInterrupt",
          "evalue": "ignored",
          "traceback": [
            "\u001b[0;31m---------------------------------------------------------------------------\u001b[0m",
            "\u001b[0;31mKeyboardInterrupt\u001b[0m                         Traceback (most recent call last)",
            "\u001b[0;32m<ipython-input-31-b38d82dfde4a>\u001b[0m in \u001b[0;36m<module>\u001b[0;34m()\u001b[0m\n\u001b[1;32m     17\u001b[0m         \u001b[0moutput1\u001b[0m\u001b[0;34m,\u001b[0m \u001b[0moutput2\u001b[0m \u001b[0;34m=\u001b[0m \u001b[0mnet\u001b[0m\u001b[0;34m(\u001b[0m\u001b[0mimg0\u001b[0m\u001b[0;34m,\u001b[0m \u001b[0mimg1\u001b[0m\u001b[0;34m)\u001b[0m\u001b[0;34m\u001b[0m\u001b[0m\n\u001b[1;32m     18\u001b[0m         \u001b[0mloss_contrastive\u001b[0m \u001b[0;34m=\u001b[0m \u001b[0mcriterion\u001b[0m\u001b[0;34m(\u001b[0m\u001b[0moutput1\u001b[0m\u001b[0;34m,\u001b[0m \u001b[0moutput2\u001b[0m\u001b[0;34m,\u001b[0m \u001b[0mlabel\u001b[0m\u001b[0;34m)\u001b[0m\u001b[0;34m\u001b[0m\u001b[0m\n\u001b[0;32m---> 19\u001b[0;31m         \u001b[0mloss_contrastive\u001b[0m\u001b[0;34m.\u001b[0m\u001b[0mbackward\u001b[0m\u001b[0;34m(\u001b[0m\u001b[0;34m)\u001b[0m\u001b[0;34m\u001b[0m\u001b[0m\n\u001b[0m\u001b[1;32m     20\u001b[0m         \u001b[0moptimizer\u001b[0m\u001b[0;34m.\u001b[0m\u001b[0mstep\u001b[0m\u001b[0;34m(\u001b[0m\u001b[0;34m)\u001b[0m\u001b[0;34m\u001b[0m\u001b[0m\n\u001b[1;32m     21\u001b[0m         \u001b[0;32mif\u001b[0m \u001b[0mbatch\u001b[0m \u001b[0;34m%\u001b[0m \u001b[0mnum_batches_per_interval\u001b[0m \u001b[0;34m==\u001b[0m \u001b[0;36m0\u001b[0m\u001b[0;34m:\u001b[0m\u001b[0;34m\u001b[0m\u001b[0m\n",
            "\u001b[0;32m/usr/local/lib/python3.6/dist-packages/torch/tensor.py\u001b[0m in \u001b[0;36mbackward\u001b[0;34m(self, gradient, retain_graph, create_graph)\u001b[0m\n\u001b[1;32m     91\u001b[0m                 \u001b[0mproducts\u001b[0m\u001b[0;34m.\u001b[0m \u001b[0mDefaults\u001b[0m \u001b[0mto\u001b[0m\u001b[0;31m \u001b[0m\u001b[0;31m`\u001b[0m\u001b[0;31m`\u001b[0m\u001b[0;32mFalse\u001b[0m\u001b[0;31m`\u001b[0m\u001b[0;31m`\u001b[0m\u001b[0;34m.\u001b[0m\u001b[0;34m\u001b[0m\u001b[0m\n\u001b[1;32m     92\u001b[0m         \"\"\"\n\u001b[0;32m---> 93\u001b[0;31m         \u001b[0mtorch\u001b[0m\u001b[0;34m.\u001b[0m\u001b[0mautograd\u001b[0m\u001b[0;34m.\u001b[0m\u001b[0mbackward\u001b[0m\u001b[0;34m(\u001b[0m\u001b[0mself\u001b[0m\u001b[0;34m,\u001b[0m \u001b[0mgradient\u001b[0m\u001b[0;34m,\u001b[0m \u001b[0mretain_graph\u001b[0m\u001b[0;34m,\u001b[0m \u001b[0mcreate_graph\u001b[0m\u001b[0;34m)\u001b[0m\u001b[0;34m\u001b[0m\u001b[0m\n\u001b[0m\u001b[1;32m     94\u001b[0m \u001b[0;34m\u001b[0m\u001b[0m\n\u001b[1;32m     95\u001b[0m     \u001b[0;32mdef\u001b[0m \u001b[0mregister_hook\u001b[0m\u001b[0;34m(\u001b[0m\u001b[0mself\u001b[0m\u001b[0;34m,\u001b[0m \u001b[0mhook\u001b[0m\u001b[0;34m)\u001b[0m\u001b[0;34m:\u001b[0m\u001b[0;34m\u001b[0m\u001b[0m\n",
            "\u001b[0;32m/usr/local/lib/python3.6/dist-packages/torch/autograd/__init__.py\u001b[0m in \u001b[0;36mbackward\u001b[0;34m(tensors, grad_tensors, retain_graph, create_graph, grad_variables)\u001b[0m\n\u001b[1;32m     87\u001b[0m     Variable._execution_engine.run_backward(\n\u001b[1;32m     88\u001b[0m         \u001b[0mtensors\u001b[0m\u001b[0;34m,\u001b[0m \u001b[0mgrad_tensors\u001b[0m\u001b[0;34m,\u001b[0m \u001b[0mretain_graph\u001b[0m\u001b[0;34m,\u001b[0m \u001b[0mcreate_graph\u001b[0m\u001b[0;34m,\u001b[0m\u001b[0;34m\u001b[0m\u001b[0m\n\u001b[0;32m---> 89\u001b[0;31m         allow_unreachable=True)  # allow_unreachable flag\n\u001b[0m\u001b[1;32m     90\u001b[0m \u001b[0;34m\u001b[0m\u001b[0m\n\u001b[1;32m     91\u001b[0m \u001b[0;34m\u001b[0m\u001b[0m\n",
            "\u001b[0;31mKeyboardInterrupt\u001b[0m: "
          ]
        }
      ]
    },
    {
      "metadata": {
        "id": "OSuDuxd7azB7",
        "colab_type": "text"
      },
      "cell_type": "markdown",
      "source": [
        "## Compute pairwise dissimilarities of all images using the trained neural network\n",
        "Compute the dissimilarities between pairwise images in the training set. The dissimilarity between two persons is then calculated as the sum of the dissimilaries between their mugshots. \n",
        "Finally, the dissimilarities between every pair of persons are stored in dissimilarity matrix."
      ]
    },
    {
      "metadata": {
        "id": "8CSNEeqvsrFY",
        "colab_type": "code",
        "colab": {
          "base_uri": "https://localhost:8080/",
          "height": 34
        },
        "outputId": "5ad61c37-c625-4330-e887-a02a7ccf2a4a"
      },
      "cell_type": "code",
      "source": [
        "# Load a saved copy of the trained SiameseNetwork\n",
        "\n",
        "restore(\"siamese.pth\")\n",
        "\n",
        "net = SiameseNetwork().cuda()   # \"net=SiameseNetwork()\" to use without GPU\n",
        "net.load_state_dict(torch.load(\"siamese.pth\"))"
      ],
      "execution_count": 32,
      "outputs": [
        {
          "output_type": "stream",
          "text": [
            "-rw-r--r-- 1 root root 161021409 Jul 14 08:02 siamese.pth\r\n"
          ],
          "name": "stdout"
        }
      ]
    },
    {
      "metadata": {
        "id": "L3EEYJW_K14b",
        "colab_type": "code",
        "colab": {
          "base_uri": "https://localhost:8080/",
          "height": 153
        },
        "outputId": "b8926408-a8c8-4bf7-e2d7-f7f741901189"
      },
      "cell_type": "code",
      "source": [
        "# Check the performance of the trained network\n",
        "\n",
        "vis_dataloader = DataLoader(siamese_dataset,shuffle=True,batch_size=8)\n",
        "\n",
        "dataiter = iter(vis_dataloader)\n",
        "example_batch = next(dataiter)\n",
        "concatenated = torch.cat((example_batch[0],example_batch[1]), 0)\n",
        "distance = []\n",
        "for i in range(8):\n",
        "    x0 = example_batch[0][i]\n",
        "    x1 = example_batch[1][i]\n",
        "    output1, output2 = net(x0[None, :, :].cuda(), x1[None, :, :].cuda())\n",
        "    distance.append(F.pairwise_distance(output1, output2).cpu().detach().numpy())\n",
        "distance = [round(item, 2) for sublist in distance for item in sublist]\n",
        "\n",
        "imshow(torchvision.utils.make_grid(concatenated))\n",
        "print(distance)"
      ],
      "execution_count": 34,
      "outputs": [
        {
          "output_type": "display_data",
          "data": {
            "image/png": "[encoded data removed]",
            "text/plain": [
              "<matplotlib.figure.Figure at 0x7f5c5eb06a90>"
            ]
          },
          "metadata": {
            "tags": []
          }
        },
        {
          "output_type": "stream",
          "text": [
            "[2.17, 2.48, 1.59, 2.47, 2.73, 1.14, 2.34, 2.45]\n"
          ],
          "name": "stdout"
        }
      ]
    },
    {
      "metadata": {
        "id": "3yPvozKdazB9",
        "colab_type": "code",
        "colab": {
          "base_uri": "https://localhost:8080/",
          "height": 34
        },
        "outputId": "3a59d60a-0946-4cb6-faa4-f1544ff4636a"
      },
      "cell_type": "code",
      "source": [
        "# Find pairwise matrix of dissimilarity between classes in training_set\n",
        "folder = dset.ImageFolder(root=Config.training_dir)\n",
        "transform = transforms.Compose([transforms.Resize((100,100)),transforms.ToTensor()])\n",
        "\n",
        "img_per_class = len([x for x in folder.imgs if x[1] == 0])\n",
        "nclasses = int(len(folder.imgs)/img_per_class)\n",
        "sim = np.zeros((nclasses, nclasses))\n",
        "\n",
        "for t0 in folder.imgs:\n",
        "    for t1 in folder.imgs:\n",
        "        c0 = t0[1]\n",
        "        c1 = t1[1]\n",
        "        x0 = Image.open(t0[0])\n",
        "        x1 = Image.open(t1[0])\n",
        "        x0 = transform(x0.convert(\"L\"))\n",
        "        x1 = transform(x1.convert(\"L\"))\n",
        "        img0 = x0[None, :, :].cuda()\n",
        "        img1 = x1[None, :, :].cuda()\n",
        "        output1, output2 = net(img0,img1)\n",
        "        euclidean_distance = F.pairwise_distance(output1, output2)\n",
        "        sim[c0,c1] += euclidean_distance.cpu().detach().numpy()\n",
        "        \n",
        "np.savetxt('_sim.txt', sim)\n",
        "print(\"Generated {}x{} matrix\".format(sim.shape[0], sim.shape[1]))"
      ],
      "execution_count": 35,
      "outputs": [
        {
          "output_type": "stream",
          "text": [
            "Generated 18x18 matrix\n"
          ],
          "name": "stdout"
        }
      ]
    },
    {
      "metadata": {
        "id": "ITv1ryNHazCh",
        "colab_type": "code",
        "colab": {
          "base_uri": "https://localhost:8080/",
          "height": 34
        },
        "outputId": "a0d011e6-9718-4fe3-ddda-fb4e3027f4e2"
      },
      "cell_type": "code",
      "source": [
        "# Save the dissimilarity matrix across session\n",
        "\n",
        "backup(\"_sim.txt\")"
      ],
      "execution_count": 36,
      "outputs": [
        {
          "output_type": "stream",
          "text": [
            "File \"_sim.txt\" not backed up since this is trial run.\n"
          ],
          "name": "stdout"
        }
      ]
    },
    {
      "metadata": {
        "id": "yG6iG9fQ0EML",
        "colab_type": "text"
      },
      "cell_type": "markdown",
      "source": [
        "## Build graph/network\n",
        "Build graph/network from the dissimilarity matrix.<br>\n",
        "A more elaborated version of this is in the next session: \"**Community Detection**\", where we will use the module NetworkX to visualize and analyze the network."
      ]
    },
    {
      "metadata": {
        "id": "0LPjhzc6zykB",
        "colab_type": "code",
        "colab": {
          "base_uri": "https://localhost:8080/",
          "height": 51
        },
        "outputId": "7d6e4c92-a222-4def-9f9c-1e80bf57eba2"
      },
      "cell_type": "code",
      "source": [
        "# Load a saved copy of the dissimilarity matrix\n",
        "\n",
        "restore('_sim.txt')\n",
        "\n",
        "sim = np.loadtxt('_sim.txt')\n",
        "\n",
        "print(\"Restored {}x{} matrix\".format(sim.shape[0], sim.shape[1]))"
      ],
      "execution_count": 37,
      "outputs": [
        {
          "output_type": "stream",
          "text": [
            "-rw-r--r-- 1 root root 8100 Jul 14 08:08 _sim.txt\r\n",
            "Restored 18x18 matrix\n"
          ],
          "name": "stdout"
        }
      ]
    },
    {
      "metadata": {
        "id": "bCD-QKTnazCq",
        "colab_type": "code",
        "colab": {
          "base_uri": "https://localhost:8080/",
          "height": 282
        },
        "outputId": "3276ffcd-c984-409e-a724-574e7aaac8fd"
      },
      "cell_type": "code",
      "source": [
        "# Analyze distribution of dissimilarity score\n",
        "\n",
        "d = np.diagonal(sim)\n",
        "print('diagonal avg={0:.2f} min={1:.2f} max={2:.2f}'.format(np.mean(d), np.min(d), np.max(d)))\n",
        "simflat = sim.reshape((-1,))\n",
        "_ = plt.hist(simflat, bins=25)"
      ],
      "execution_count": 39,
      "outputs": [
        {
          "output_type": "stream",
          "text": [
            "diagonal avg=157.30 min=108.60 max=215.52\n"
          ],
          "name": "stdout"
        },
        {
          "output_type": "display_data",
          "data": {
            "image/png": "[encoded data removed]",
            "text/plain": [
              "<matplotlib.figure.Figure at 0x7f5cb1ec9978>"
            ]
          },
          "metadata": {
            "tags": []
          }
        }
      ]
    },
    {
      "metadata": {
        "id": "0IxRZGSimMQp",
        "colab_type": "code",
        "colab": {
          "base_uri": "https://localhost:8080/",
          "height": 34
        },
        "outputId": "4c7f0464-3863-46fa-83c3-8e5d79a0faf6"
      },
      "cell_type": "code",
      "source": [
        "# Select a suitable threshold and set dissimilarity scores larger than that threshold to zero\n",
        "\n",
        "threshold = 180\n",
        "adjmat = sim.reshape((-1,)).copy()\n",
        "adjmat[adjmat > threshold] = 0\n",
        "print(\"{} out of {} values set to zero\".format(len(adjmat[adjmat == 0]), len(adjmat)))\n",
        "adjmat = adjmat.reshape(sim.shape)"
      ],
      "execution_count": 40,
      "outputs": [
        {
          "output_type": "stream",
          "text": [
            "250 out of 324 values set to zero\n"
          ],
          "name": "stdout"
        }
      ]
    },
    {
      "metadata": {
        "id": "HPkIqFsmgvRo",
        "colab_type": "text"
      },
      "cell_type": "markdown",
      "source": [
        "##Output edges for visualization in Gephi\n",
        "\n",
        "Gephi Download - https://gephi.org/users/download/<br>\n",
        "Gephi HOWTO    - https://gephi.wordpress.com/2017/09/26/gephi-0-9-2-a-new-csv-importer/\n"
      ]
    },
    {
      "metadata": {
        "id": "eVRLZPUh1AwO",
        "colab_type": "code",
        "colab": {}
      },
      "cell_type": "code",
      "source": [
        "# Generate and download edges for Gephi\n",
        "\n",
        "export_edge_list(adjmat, labels=Config.labels, filename='gephi-edges.csv')\n",
        "backup('gephi-edges.csv', False)"
      ],
      "execution_count": 0,
      "outputs": []
    }
  ]
}